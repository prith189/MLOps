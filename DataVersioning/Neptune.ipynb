{
 "cells": [
  {
   "cell_type": "code",
   "execution_count": 1,
   "id": "adb832ce-cdd6-49ab-bb7a-5d9c30429e50",
   "metadata": {},
   "outputs": [],
   "source": [
    "#Download the fraud dataset, preprocess it and save three files train_a.csv, train_b.csv and test.csv\n",
    "#Train a model with train_a.csv, test it on test.csv and save the model and metrics\n",
    "#Train a model with train_b.csv, test it on test.csv and save the model and metrics\n",
    "#Switch back to the model created with train_a.csv, and verify that its metrics on test match the computed metrics"
   ]
  },
  {
   "cell_type": "code",
   "execution_count": 34,
   "id": "f28d6ce1-c6af-42dd-9762-9e2602356fbd",
   "metadata": {},
   "outputs": [],
   "source": [
    "import pandas as pd\n",
    "import numpy as np"
   ]
  },
  {
   "cell_type": "code",
   "execution_count": 35,
   "id": "4ca25ea5-1449-4f05-bbee-c695b299751f",
   "metadata": {},
   "outputs": [],
   "source": [
    "#Read split_1.csv, build a simple linear regression model and test on split_3.csv\n",
    "data = pd.read_csv('split_1.csv')"
   ]
  },
  {
   "cell_type": "code",
   "execution_count": 36,
   "id": "d38b0542-47d3-4c58-b494-eed1c820045a",
   "metadata": {},
   "outputs": [
    {
     "data": {
      "text/html": [
       "<style>#sk-container-id-3 {color: black;background-color: white;}#sk-container-id-3 pre{padding: 0;}#sk-container-id-3 div.sk-toggleable {background-color: white;}#sk-container-id-3 label.sk-toggleable__label {cursor: pointer;display: block;width: 100%;margin-bottom: 0;padding: 0.3em;box-sizing: border-box;text-align: center;}#sk-container-id-3 label.sk-toggleable__label-arrow:before {content: \"▸\";float: left;margin-right: 0.25em;color: #696969;}#sk-container-id-3 label.sk-toggleable__label-arrow:hover:before {color: black;}#sk-container-id-3 div.sk-estimator:hover label.sk-toggleable__label-arrow:before {color: black;}#sk-container-id-3 div.sk-toggleable__content {max-height: 0;max-width: 0;overflow: hidden;text-align: left;background-color: #f0f8ff;}#sk-container-id-3 div.sk-toggleable__content pre {margin: 0.2em;color: black;border-radius: 0.25em;background-color: #f0f8ff;}#sk-container-id-3 input.sk-toggleable__control:checked~div.sk-toggleable__content {max-height: 200px;max-width: 100%;overflow: auto;}#sk-container-id-3 input.sk-toggleable__control:checked~label.sk-toggleable__label-arrow:before {content: \"▾\";}#sk-container-id-3 div.sk-estimator input.sk-toggleable__control:checked~label.sk-toggleable__label {background-color: #d4ebff;}#sk-container-id-3 div.sk-label input.sk-toggleable__control:checked~label.sk-toggleable__label {background-color: #d4ebff;}#sk-container-id-3 input.sk-hidden--visually {border: 0;clip: rect(1px 1px 1px 1px);clip: rect(1px, 1px, 1px, 1px);height: 1px;margin: -1px;overflow: hidden;padding: 0;position: absolute;width: 1px;}#sk-container-id-3 div.sk-estimator {font-family: monospace;background-color: #f0f8ff;border: 1px dotted black;border-radius: 0.25em;box-sizing: border-box;margin-bottom: 0.5em;}#sk-container-id-3 div.sk-estimator:hover {background-color: #d4ebff;}#sk-container-id-3 div.sk-parallel-item::after {content: \"\";width: 100%;border-bottom: 1px solid gray;flex-grow: 1;}#sk-container-id-3 div.sk-label:hover label.sk-toggleable__label {background-color: #d4ebff;}#sk-container-id-3 div.sk-serial::before {content: \"\";position: absolute;border-left: 1px solid gray;box-sizing: border-box;top: 0;bottom: 0;left: 50%;z-index: 0;}#sk-container-id-3 div.sk-serial {display: flex;flex-direction: column;align-items: center;background-color: white;padding-right: 0.2em;padding-left: 0.2em;position: relative;}#sk-container-id-3 div.sk-item {position: relative;z-index: 1;}#sk-container-id-3 div.sk-parallel {display: flex;align-items: stretch;justify-content: center;background-color: white;position: relative;}#sk-container-id-3 div.sk-item::before, #sk-container-id-3 div.sk-parallel-item::before {content: \"\";position: absolute;border-left: 1px solid gray;box-sizing: border-box;top: 0;bottom: 0;left: 50%;z-index: -1;}#sk-container-id-3 div.sk-parallel-item {display: flex;flex-direction: column;z-index: 1;position: relative;background-color: white;}#sk-container-id-3 div.sk-parallel-item:first-child::after {align-self: flex-end;width: 50%;}#sk-container-id-3 div.sk-parallel-item:last-child::after {align-self: flex-start;width: 50%;}#sk-container-id-3 div.sk-parallel-item:only-child::after {width: 0;}#sk-container-id-3 div.sk-dashed-wrapped {border: 1px dashed gray;margin: 0 0.4em 0.5em 0.4em;box-sizing: border-box;padding-bottom: 0.4em;background-color: white;}#sk-container-id-3 div.sk-label label {font-family: monospace;font-weight: bold;display: inline-block;line-height: 1.2em;}#sk-container-id-3 div.sk-label-container {text-align: center;}#sk-container-id-3 div.sk-container {/* jupyter's `normalize.less` sets `[hidden] { display: none; }` but bootstrap.min.css set `[hidden] { display: none !important; }` so we also need the `!important` here to be able to override the default hidden behavior on the sphinx rendered scikit-learn.org. See: https://github.com/scikit-learn/scikit-learn/issues/21755 */display: inline-block !important;position: relative;}#sk-container-id-3 div.sk-text-repr-fallback {display: none;}</style><div id=\"sk-container-id-3\" class=\"sk-top-container\"><div class=\"sk-text-repr-fallback\"><pre>ColumnTransformer(transformers=[(&#x27;num&#x27;, MinMaxScaler(),\n",
       "                                 [&#x27;amount&#x27;, &#x27;oldbalanceOrg&#x27;, &#x27;newbalanceOrig&#x27;,\n",
       "                                  &#x27;oldbalanceDest&#x27;, &#x27;newbalanceDest&#x27;]),\n",
       "                                (&#x27;cat&#x27;, OneHotEncoder(), [&#x27;type&#x27;])])</pre><b>In a Jupyter environment, please rerun this cell to show the HTML representation or trust the notebook. <br />On GitHub, the HTML representation is unable to render, please try loading this page with nbviewer.org.</b></div><div class=\"sk-container\" hidden><div class=\"sk-item sk-dashed-wrapped\"><div class=\"sk-label-container\"><div class=\"sk-label sk-toggleable\"><input class=\"sk-toggleable__control sk-hidden--visually\" id=\"sk-estimator-id-7\" type=\"checkbox\" ><label for=\"sk-estimator-id-7\" class=\"sk-toggleable__label sk-toggleable__label-arrow\">ColumnTransformer</label><div class=\"sk-toggleable__content\"><pre>ColumnTransformer(transformers=[(&#x27;num&#x27;, MinMaxScaler(),\n",
       "                                 [&#x27;amount&#x27;, &#x27;oldbalanceOrg&#x27;, &#x27;newbalanceOrig&#x27;,\n",
       "                                  &#x27;oldbalanceDest&#x27;, &#x27;newbalanceDest&#x27;]),\n",
       "                                (&#x27;cat&#x27;, OneHotEncoder(), [&#x27;type&#x27;])])</pre></div></div></div><div class=\"sk-parallel\"><div class=\"sk-parallel-item\"><div class=\"sk-item\"><div class=\"sk-label-container\"><div class=\"sk-label sk-toggleable\"><input class=\"sk-toggleable__control sk-hidden--visually\" id=\"sk-estimator-id-8\" type=\"checkbox\" ><label for=\"sk-estimator-id-8\" class=\"sk-toggleable__label sk-toggleable__label-arrow\">num</label><div class=\"sk-toggleable__content\"><pre>[&#x27;amount&#x27;, &#x27;oldbalanceOrg&#x27;, &#x27;newbalanceOrig&#x27;, &#x27;oldbalanceDest&#x27;, &#x27;newbalanceDest&#x27;]</pre></div></div></div><div class=\"sk-serial\"><div class=\"sk-item\"><div class=\"sk-estimator sk-toggleable\"><input class=\"sk-toggleable__control sk-hidden--visually\" id=\"sk-estimator-id-9\" type=\"checkbox\" ><label for=\"sk-estimator-id-9\" class=\"sk-toggleable__label sk-toggleable__label-arrow\">MinMaxScaler</label><div class=\"sk-toggleable__content\"><pre>MinMaxScaler()</pre></div></div></div></div></div></div><div class=\"sk-parallel-item\"><div class=\"sk-item\"><div class=\"sk-label-container\"><div class=\"sk-label sk-toggleable\"><input class=\"sk-toggleable__control sk-hidden--visually\" id=\"sk-estimator-id-10\" type=\"checkbox\" ><label for=\"sk-estimator-id-10\" class=\"sk-toggleable__label sk-toggleable__label-arrow\">cat</label><div class=\"sk-toggleable__content\"><pre>[&#x27;type&#x27;]</pre></div></div></div><div class=\"sk-serial\"><div class=\"sk-item\"><div class=\"sk-estimator sk-toggleable\"><input class=\"sk-toggleable__control sk-hidden--visually\" id=\"sk-estimator-id-11\" type=\"checkbox\" ><label for=\"sk-estimator-id-11\" class=\"sk-toggleable__label sk-toggleable__label-arrow\">OneHotEncoder</label><div class=\"sk-toggleable__content\"><pre>OneHotEncoder()</pre></div></div></div></div></div></div></div></div></div></div>"
      ],
      "text/plain": [
       "ColumnTransformer(transformers=[('num', MinMaxScaler(),\n",
       "                                 ['amount', 'oldbalanceOrg', 'newbalanceOrig',\n",
       "                                  'oldbalanceDest', 'newbalanceDest']),\n",
       "                                ('cat', OneHotEncoder(), ['type'])])"
      ]
     },
     "execution_count": 36,
     "metadata": {},
     "output_type": "execute_result"
    }
   ],
   "source": [
    "from sklearn.preprocessing import MinMaxScaler, OneHotEncoder\n",
    "from sklearn.compose import ColumnTransformer\n",
    "preprocessor = ColumnTransformer(\n",
    "    transformers=[\n",
    "        ('num', MinMaxScaler(), ['amount', 'oldbalanceOrg', 'newbalanceOrig', 'oldbalanceDest', 'newbalanceDest']),\n",
    "        ('cat', OneHotEncoder(), ['type'])\n",
    "    ])\n",
    "preprocessor.fit(data.drop(columns=['step', 'nameOrig', 'nameDest', 'isFlaggedFraud']))"
   ]
  },
  {
   "cell_type": "code",
   "execution_count": 37,
   "id": "27e4fe13-1db8-46ef-aedc-7e52188fb34c",
   "metadata": {},
   "outputs": [],
   "source": [
    "model_input = preprocessor.transform(data.drop(columns=['step', 'nameOrig', 'nameDest', 'isFlaggedFraud']))"
   ]
  },
  {
   "cell_type": "code",
   "execution_count": 38,
   "id": "af7c74b0-667b-41cd-b9b5-d9cfdbcdcd8f",
   "metadata": {},
   "outputs": [],
   "source": [
    "target = data['isFraud']"
   ]
  },
  {
   "cell_type": "code",
   "execution_count": 39,
   "id": "b2859bc9-1643-415d-99ed-4c87ff0c2656",
   "metadata": {},
   "outputs": [
    {
     "data": {
      "text/html": [
       "<style>#sk-container-id-4 {color: black;background-color: white;}#sk-container-id-4 pre{padding: 0;}#sk-container-id-4 div.sk-toggleable {background-color: white;}#sk-container-id-4 label.sk-toggleable__label {cursor: pointer;display: block;width: 100%;margin-bottom: 0;padding: 0.3em;box-sizing: border-box;text-align: center;}#sk-container-id-4 label.sk-toggleable__label-arrow:before {content: \"▸\";float: left;margin-right: 0.25em;color: #696969;}#sk-container-id-4 label.sk-toggleable__label-arrow:hover:before {color: black;}#sk-container-id-4 div.sk-estimator:hover label.sk-toggleable__label-arrow:before {color: black;}#sk-container-id-4 div.sk-toggleable__content {max-height: 0;max-width: 0;overflow: hidden;text-align: left;background-color: #f0f8ff;}#sk-container-id-4 div.sk-toggleable__content pre {margin: 0.2em;color: black;border-radius: 0.25em;background-color: #f0f8ff;}#sk-container-id-4 input.sk-toggleable__control:checked~div.sk-toggleable__content {max-height: 200px;max-width: 100%;overflow: auto;}#sk-container-id-4 input.sk-toggleable__control:checked~label.sk-toggleable__label-arrow:before {content: \"▾\";}#sk-container-id-4 div.sk-estimator input.sk-toggleable__control:checked~label.sk-toggleable__label {background-color: #d4ebff;}#sk-container-id-4 div.sk-label input.sk-toggleable__control:checked~label.sk-toggleable__label {background-color: #d4ebff;}#sk-container-id-4 input.sk-hidden--visually {border: 0;clip: rect(1px 1px 1px 1px);clip: rect(1px, 1px, 1px, 1px);height: 1px;margin: -1px;overflow: hidden;padding: 0;position: absolute;width: 1px;}#sk-container-id-4 div.sk-estimator {font-family: monospace;background-color: #f0f8ff;border: 1px dotted black;border-radius: 0.25em;box-sizing: border-box;margin-bottom: 0.5em;}#sk-container-id-4 div.sk-estimator:hover {background-color: #d4ebff;}#sk-container-id-4 div.sk-parallel-item::after {content: \"\";width: 100%;border-bottom: 1px solid gray;flex-grow: 1;}#sk-container-id-4 div.sk-label:hover label.sk-toggleable__label {background-color: #d4ebff;}#sk-container-id-4 div.sk-serial::before {content: \"\";position: absolute;border-left: 1px solid gray;box-sizing: border-box;top: 0;bottom: 0;left: 50%;z-index: 0;}#sk-container-id-4 div.sk-serial {display: flex;flex-direction: column;align-items: center;background-color: white;padding-right: 0.2em;padding-left: 0.2em;position: relative;}#sk-container-id-4 div.sk-item {position: relative;z-index: 1;}#sk-container-id-4 div.sk-parallel {display: flex;align-items: stretch;justify-content: center;background-color: white;position: relative;}#sk-container-id-4 div.sk-item::before, #sk-container-id-4 div.sk-parallel-item::before {content: \"\";position: absolute;border-left: 1px solid gray;box-sizing: border-box;top: 0;bottom: 0;left: 50%;z-index: -1;}#sk-container-id-4 div.sk-parallel-item {display: flex;flex-direction: column;z-index: 1;position: relative;background-color: white;}#sk-container-id-4 div.sk-parallel-item:first-child::after {align-self: flex-end;width: 50%;}#sk-container-id-4 div.sk-parallel-item:last-child::after {align-self: flex-start;width: 50%;}#sk-container-id-4 div.sk-parallel-item:only-child::after {width: 0;}#sk-container-id-4 div.sk-dashed-wrapped {border: 1px dashed gray;margin: 0 0.4em 0.5em 0.4em;box-sizing: border-box;padding-bottom: 0.4em;background-color: white;}#sk-container-id-4 div.sk-label label {font-family: monospace;font-weight: bold;display: inline-block;line-height: 1.2em;}#sk-container-id-4 div.sk-label-container {text-align: center;}#sk-container-id-4 div.sk-container {/* jupyter's `normalize.less` sets `[hidden] { display: none; }` but bootstrap.min.css set `[hidden] { display: none !important; }` so we also need the `!important` here to be able to override the default hidden behavior on the sphinx rendered scikit-learn.org. See: https://github.com/scikit-learn/scikit-learn/issues/21755 */display: inline-block !important;position: relative;}#sk-container-id-4 div.sk-text-repr-fallback {display: none;}</style><div id=\"sk-container-id-4\" class=\"sk-top-container\"><div class=\"sk-text-repr-fallback\"><pre>LogisticRegression(penalty=&#x27;l1&#x27;, solver=&#x27;liblinear&#x27;)</pre><b>In a Jupyter environment, please rerun this cell to show the HTML representation or trust the notebook. <br />On GitHub, the HTML representation is unable to render, please try loading this page with nbviewer.org.</b></div><div class=\"sk-container\" hidden><div class=\"sk-item\"><div class=\"sk-estimator sk-toggleable\"><input class=\"sk-toggleable__control sk-hidden--visually\" id=\"sk-estimator-id-12\" type=\"checkbox\" checked><label for=\"sk-estimator-id-12\" class=\"sk-toggleable__label sk-toggleable__label-arrow\">LogisticRegression</label><div class=\"sk-toggleable__content\"><pre>LogisticRegression(penalty=&#x27;l1&#x27;, solver=&#x27;liblinear&#x27;)</pre></div></div></div></div></div>"
      ],
      "text/plain": [
       "LogisticRegression(penalty='l1', solver='liblinear')"
      ]
     },
     "execution_count": 39,
     "metadata": {},
     "output_type": "execute_result"
    }
   ],
   "source": [
    "from sklearn.linear_model import LogisticRegression\n",
    "reg = LogisticRegression(penalty='l1', C=1.0, solver='liblinear')\n",
    "reg.fit(model_input, target)"
   ]
  },
  {
   "cell_type": "code",
   "execution_count": 40,
   "id": "baecaaaa-2f3d-4ae4-a4f3-aea335c4843e",
   "metadata": {},
   "outputs": [],
   "source": [
    "test = pd.read_csv('split_3.csv')"
   ]
  },
  {
   "cell_type": "code",
   "execution_count": 41,
   "id": "1f863913-96c1-4b6d-8c91-848c9bbef72a",
   "metadata": {},
   "outputs": [],
   "source": [
    "test_input = preprocessor.transform(test.drop(columns=['step', 'nameOrig', 'nameDest', 'isFlaggedFraud']))"
   ]
  },
  {
   "cell_type": "code",
   "execution_count": 42,
   "id": "30171abb-7ebe-48bb-9cb9-d2dccd7d8f70",
   "metadata": {},
   "outputs": [],
   "source": [
    "test_target = test['isFraud']"
   ]
  },
  {
   "cell_type": "code",
   "execution_count": 43,
   "id": "1566bbe1-b482-497f-8954-ffde5e29001a",
   "metadata": {},
   "outputs": [],
   "source": [
    "test_predict = reg.predict(test_input)"
   ]
  },
  {
   "cell_type": "code",
   "execution_count": 44,
   "id": "b9196372-8230-45dd-9400-037a276c627c",
   "metadata": {},
   "outputs": [
    {
     "name": "stdout",
     "output_type": "stream",
     "text": [
      "Accuracy with split_1 :  0.9177638587072308\n"
     ]
    }
   ],
   "source": [
    "from sklearn.metrics import accuracy_score\n",
    "print('Accuracy with split_1 : ', accuracy_score(test_target, test_predict))"
   ]
  },
  {
   "cell_type": "code",
   "execution_count": 17,
   "id": "6248a1f8-e2da-4a91-85aa-fef570c9b809",
   "metadata": {},
   "outputs": [],
   "source": [
    "import pickle \n",
    "with open('model.p', 'wb') as f:\n",
    "    pickle.dump(reg, f)"
   ]
  },
  {
   "cell_type": "code",
   "execution_count": 45,
   "id": "8cef86e5-9103-41ce-a08c-e4715f8d784e",
   "metadata": {},
   "outputs": [],
   "source": [
    "NEPTUNE_KEY = ''"
   ]
  },
  {
   "cell_type": "code",
   "execution_count": 46,
   "id": "a94f2130-2da5-49c8-8a8d-34e95ce3093f",
   "metadata": {},
   "outputs": [
    {
     "name": "stderr",
     "output_type": "stream",
     "text": [
      "<ipython-input-46-0c4251ba0d9e>:2: NeptuneWarning: To avoid unintended consumption of logging hours during interactive sessions, the following monitoring options are disabled unless set to 'True' when initializing the run: 'capture_stdout', 'capture_stderr', and 'capture_hardware_metrics'.\n",
      "  run = neptune.init_run(project='pnuthanakalva/DVTest', api_token=NEPTUNE_KEY)\n"
     ]
    },
    {
     "name": "stdout",
     "output_type": "stream",
     "text": [
      "https://app.neptune.ai/pnuthanakalva/DVTest/e/DVTES-1\n",
      "Shutting down background jobs, please wait a moment...\n",
      "Done!\n",
      "Waiting for the remaining 4 operations to synchronize with Neptune. Do not kill this process.\n",
      "All 4 operations synced, thanks for waiting!\n",
      "Explore the metadata in the Neptune app:\n",
      "https://app.neptune.ai/pnuthanakalva/DVTest/e/DVTES-1/metadata\n"
     ]
    }
   ],
   "source": [
    "import neptune\n",
    "run = neptune.init_run(project='pnuthanakalva/DVTest', api_token=NEPTUNE_KEY)\n",
    "\n",
    "run[\"datasets/train\"].track_files('split_1.csv')\n",
    "run[\"datasets/test\"].track_files('split_3.csv')\n",
    "run[\"metrics/test_score\"] = accuracy_score(test_target, test_predict)\n",
    "run['models/model'].track_files('model.p')\n",
    "\n",
    "run.stop()"
   ]
  },
  {
   "cell_type": "code",
   "execution_count": 23,
   "id": "51cce53e-e256-4db2-84c0-94679ee69699",
   "metadata": {},
   "outputs": [],
   "source": [
    "#Repeat the same with the second model"
   ]
  },
  {
   "cell_type": "code",
   "execution_count": 50,
   "id": "c64671c8-c9dc-416c-bfd4-96c8e2124fd4",
   "metadata": {},
   "outputs": [
    {
     "name": "stdout",
     "output_type": "stream",
     "text": [
      "Accuracy with split_2 :  0.8496740380928033\n"
     ]
    }
   ],
   "source": [
    "data = pd.read_csv('split_1.csv')\n",
    "preprocessor = ColumnTransformer(\n",
    "    transformers=[\n",
    "        ('num', MinMaxScaler(), ['amount', 'newbalanceOrig', 'oldbalanceDest', 'newbalanceDest']),\n",
    "        ('cat', OneHotEncoder(), ['type'])\n",
    "    ])\n",
    "preprocessor.fit(data.drop(columns=['step', 'nameOrig', 'nameDest', 'isFlaggedFraud']))\n",
    "model_input = preprocessor.transform(data.drop(columns=['step', 'nameOrig', 'nameDest', 'isFlaggedFraud']))\n",
    "target = data['isFraud']\n",
    "reg = LogisticRegression(penalty='l1', C=1.0, solver='liblinear')\n",
    "reg.fit(model_input, target)\n",
    "test = pd.read_csv('split_3.csv')\n",
    "test_input = preprocessor.transform(test.drop(columns=['step', 'nameOrig', 'nameDest', 'isFlaggedFraud']))\n",
    "test_target = test['isFraud']\n",
    "test_predict = reg.predict(test_input)\n",
    "print('Accuracy with split_2 : ', accuracy_score(test_target, test_predict))"
   ]
  },
  {
   "cell_type": "code",
   "execution_count": 51,
   "id": "7b24f8ac-2d6e-4c5a-853c-44f6c828c531",
   "metadata": {},
   "outputs": [],
   "source": [
    "with open('model.p', 'wb') as f:\n",
    "    pickle.dump(reg, f)"
   ]
  },
  {
   "cell_type": "code",
   "execution_count": 52,
   "id": "66f40134-5a31-4e9d-9044-8ef9a90db483",
   "metadata": {},
   "outputs": [
    {
     "name": "stdout",
     "output_type": "stream",
     "text": [
      "https://app.neptune.ai/pnuthanakalva/DVTest/e/DVTES-2\n",
      "Shutting down background jobs, please wait a moment...\n",
      "Done!\n",
      "Waiting for the remaining 4 operations to synchronize with Neptune. Do not kill this process.\n",
      "All 4 operations synced, thanks for waiting!\n",
      "Explore the metadata in the Neptune app:\n",
      "https://app.neptune.ai/pnuthanakalva/DVTest/e/DVTES-2/metadata\n"
     ]
    }
   ],
   "source": [
    "import neptune\n",
    "run = neptune.init_run(project='pnuthanakalva/DVTest', api_token=NEPTUNE_KEY)\n",
    "\n",
    "run[\"datasets/train\"].track_files('split_1.csv')\n",
    "run[\"datasets/test\"].track_files('split_3.csv')\n",
    "run[\"metrics/test_score\"] = accuracy_score(test_target, test_predict)\n",
    "run['models/model'].track_files('model.p')\n",
    "\n",
    "run.stop()"
   ]
  },
  {
   "cell_type": "code",
   "execution_count": 54,
   "id": "21900aea-4a51-466b-92c3-22ad189c1768",
   "metadata": {},
   "outputs": [
    {
     "ename": "ModelNotFound",
     "evalue": "Model pnuthanakalva/DVTest/DVTES-1 not found.",
     "output_type": "error",
     "traceback": [
      "\u001b[0;31m---------------------------------------------------------------------------\u001b[0m",
      "\u001b[0;31mModelNotFound\u001b[0m                             Traceback (most recent call last)",
      "Cell \u001b[0;32mIn[54], line 1\u001b[0m\n\u001b[0;32m----> 1\u001b[0m model \u001b[38;5;241m=\u001b[39m \u001b[43mneptune\u001b[49m\u001b[38;5;241;43m.\u001b[39;49m\u001b[43minit_model\u001b[49m\u001b[43m(\u001b[49m\u001b[43mwith_id\u001b[49m\u001b[38;5;241;43m=\u001b[39;49m\u001b[38;5;124;43m\"\u001b[39;49m\u001b[38;5;124;43mDVTES-1\u001b[39;49m\u001b[38;5;124;43m\"\u001b[39;49m\u001b[43m,\u001b[49m\u001b[43mproject\u001b[49m\u001b[38;5;241;43m=\u001b[39;49m\u001b[38;5;124;43m'\u001b[39;49m\u001b[38;5;124;43mpnuthanakalva/DVTest\u001b[39;49m\u001b[38;5;124;43m'\u001b[39;49m\u001b[43m,\u001b[49m\u001b[43m \u001b[49m\u001b[43mapi_token\u001b[49m\u001b[38;5;241;43m=\u001b[39;49m\u001b[43mNEPTUNE_KEY\u001b[49m\u001b[43m)\u001b[49m\n\u001b[1;32m      3\u001b[0m \u001b[38;5;66;03m# The path exists in the local representation\u001b[39;00m\n\u001b[1;32m      4\u001b[0m \u001b[38;5;28;01mif\u001b[39;00m model\u001b[38;5;241m.\u001b[39mexists(\u001b[38;5;124m\"\u001b[39m\u001b[38;5;124mmodels/model\u001b[39m\u001b[38;5;124m\"\u001b[39m):\n\u001b[1;32m      5\u001b[0m     \u001b[38;5;66;03m# However, the tracking call may have not reached Neptune servers yet\u001b[39;00m\n",
      "File \u001b[0;32m~/opt/anaconda3/envs/mlops/lib/python3.9/site-packages/neptune/metadata_containers/model.py:100\u001b[0m, in \u001b[0;36mModel.__init__\u001b[0;34m(self, with_id, name, key, project, api_token, mode, flush_period, proxies)\u001b[0m\n\u001b[1;32m     97\u001b[0m \u001b[38;5;28;01mif\u001b[39;00m mode \u001b[38;5;241m==\u001b[39m Mode\u001b[38;5;241m.\u001b[39mDEBUG:\n\u001b[1;32m     98\u001b[0m     project \u001b[38;5;241m=\u001b[39m OFFLINE_PROJECT_QUALIFIED_NAME\n\u001b[0;32m--> 100\u001b[0m \u001b[38;5;28;43msuper\u001b[39;49m\u001b[43m(\u001b[49m\u001b[43m)\u001b[49m\u001b[38;5;241;43m.\u001b[39;49m\u001b[38;5;21;43m__init__\u001b[39;49m\u001b[43m(\u001b[49m\u001b[43mproject\u001b[49m\u001b[38;5;241;43m=\u001b[39;49m\u001b[43mproject\u001b[49m\u001b[43m,\u001b[49m\u001b[43m \u001b[49m\u001b[43mapi_token\u001b[49m\u001b[38;5;241;43m=\u001b[39;49m\u001b[43mapi_token\u001b[49m\u001b[43m,\u001b[49m\u001b[43m \u001b[49m\u001b[43mmode\u001b[49m\u001b[38;5;241;43m=\u001b[39;49m\u001b[43mmode\u001b[49m\u001b[43m,\u001b[49m\u001b[43m \u001b[49m\u001b[43mflush_period\u001b[49m\u001b[38;5;241;43m=\u001b[39;49m\u001b[43mflush_period\u001b[49m\u001b[43m,\u001b[49m\u001b[43m \u001b[49m\u001b[43mproxies\u001b[49m\u001b[38;5;241;43m=\u001b[39;49m\u001b[43mproxies\u001b[49m\u001b[43m)\u001b[49m\n",
      "File \u001b[0;32m~/opt/anaconda3/envs/mlops/lib/python3.9/site-packages/neptune/metadata_containers/metadata_container.py:121\u001b[0m, in \u001b[0;36mMetadataContainer.__init__\u001b[0;34m(self, project, api_token, mode, flush_period, proxies)\u001b[0m\n\u001b[1;32m    116\u001b[0m \u001b[38;5;28mself\u001b[39m\u001b[38;5;241m.\u001b[39m_project_api_object: Project \u001b[38;5;241m=\u001b[39m project_name_lookup(\n\u001b[1;32m    117\u001b[0m     backend\u001b[38;5;241m=\u001b[39m\u001b[38;5;28mself\u001b[39m\u001b[38;5;241m.\u001b[39m_backend, name\u001b[38;5;241m=\u001b[39m\u001b[38;5;28mself\u001b[39m\u001b[38;5;241m.\u001b[39m_project_qualified_name\n\u001b[1;32m    118\u001b[0m )\n\u001b[1;32m    119\u001b[0m \u001b[38;5;28mself\u001b[39m\u001b[38;5;241m.\u001b[39m_project_id: UniqueId \u001b[38;5;241m=\u001b[39m \u001b[38;5;28mself\u001b[39m\u001b[38;5;241m.\u001b[39m_project_api_object\u001b[38;5;241m.\u001b[39mid\n\u001b[0;32m--> 121\u001b[0m \u001b[38;5;28mself\u001b[39m\u001b[38;5;241m.\u001b[39m_api_object: ApiExperiment \u001b[38;5;241m=\u001b[39m \u001b[38;5;28;43mself\u001b[39;49m\u001b[38;5;241;43m.\u001b[39;49m\u001b[43m_get_or_create_api_object\u001b[49m\u001b[43m(\u001b[49m\u001b[43m)\u001b[49m\n\u001b[1;32m    122\u001b[0m \u001b[38;5;28mself\u001b[39m\u001b[38;5;241m.\u001b[39m_id: UniqueId \u001b[38;5;241m=\u001b[39m \u001b[38;5;28mself\u001b[39m\u001b[38;5;241m.\u001b[39m_api_object\u001b[38;5;241m.\u001b[39mid\n\u001b[1;32m    123\u001b[0m \u001b[38;5;28mself\u001b[39m\u001b[38;5;241m.\u001b[39m_sys_id: SysId \u001b[38;5;241m=\u001b[39m \u001b[38;5;28mself\u001b[39m\u001b[38;5;241m.\u001b[39m_api_object\u001b[38;5;241m.\u001b[39msys_id\n",
      "File \u001b[0;32m~/opt/anaconda3/envs/mlops/lib/python3.9/site-packages/neptune/metadata_containers/model.py:110\u001b[0m, in \u001b[0;36mModel._get_or_create_api_object\u001b[0;34m(self)\u001b[0m\n\u001b[1;32m    105\u001b[0m project_qualified_name \u001b[38;5;241m=\u001b[39m \u001b[38;5;124mf\u001b[39m\u001b[38;5;124m\"\u001b[39m\u001b[38;5;132;01m{\u001b[39;00mproject_workspace\u001b[38;5;132;01m}\u001b[39;00m\u001b[38;5;124m/\u001b[39m\u001b[38;5;132;01m{\u001b[39;00mproject_name\u001b[38;5;132;01m}\u001b[39;00m\u001b[38;5;124m\"\u001b[39m\n\u001b[1;32m    107\u001b[0m \u001b[38;5;28;01mif\u001b[39;00m \u001b[38;5;28mself\u001b[39m\u001b[38;5;241m.\u001b[39m_with_id \u001b[38;5;129;01mis\u001b[39;00m \u001b[38;5;129;01mnot\u001b[39;00m \u001b[38;5;28;01mNone\u001b[39;00m:\n\u001b[1;32m    108\u001b[0m     \u001b[38;5;66;03m# with_id (resume existing model) has priority over key (creating a new model)\u001b[39;00m\n\u001b[1;32m    109\u001b[0m     \u001b[38;5;66;03m#  additional creation parameters (e.g. name) are simply ignored in this scenario\u001b[39;00m\n\u001b[0;32m--> 110\u001b[0m     \u001b[38;5;28;01mreturn\u001b[39;00m \u001b[38;5;28;43mself\u001b[39;49m\u001b[38;5;241;43m.\u001b[39;49m\u001b[43m_backend\u001b[49m\u001b[38;5;241;43m.\u001b[39;49m\u001b[43mget_metadata_container\u001b[49m\u001b[43m(\u001b[49m\n\u001b[1;32m    111\u001b[0m \u001b[43m        \u001b[49m\u001b[43mcontainer_id\u001b[49m\u001b[38;5;241;43m=\u001b[39;49m\u001b[43mQualifiedName\u001b[49m\u001b[43m(\u001b[49m\u001b[43mproject_qualified_name\u001b[49m\u001b[43m \u001b[49m\u001b[38;5;241;43m+\u001b[39;49m\u001b[43m \u001b[49m\u001b[38;5;124;43m\"\u001b[39;49m\u001b[38;5;124;43m/\u001b[39;49m\u001b[38;5;124;43m\"\u001b[39;49m\u001b[43m \u001b[49m\u001b[38;5;241;43m+\u001b[39;49m\u001b[43m \u001b[49m\u001b[38;5;28;43mself\u001b[39;49m\u001b[38;5;241;43m.\u001b[39;49m\u001b[43m_with_id\u001b[49m\u001b[43m)\u001b[49m\u001b[43m,\u001b[49m\n\u001b[1;32m    112\u001b[0m \u001b[43m        \u001b[49m\u001b[43mexpected_container_type\u001b[49m\u001b[38;5;241;43m=\u001b[39;49m\u001b[38;5;28;43mself\u001b[39;49m\u001b[38;5;241;43m.\u001b[39;49m\u001b[43mcontainer_type\u001b[49m\u001b[43m,\u001b[49m\n\u001b[1;32m    113\u001b[0m \u001b[43m    \u001b[49m\u001b[43m)\u001b[49m\n\u001b[1;32m    114\u001b[0m \u001b[38;5;28;01melif\u001b[39;00m \u001b[38;5;28mself\u001b[39m\u001b[38;5;241m.\u001b[39m_key \u001b[38;5;129;01mis\u001b[39;00m \u001b[38;5;129;01mnot\u001b[39;00m \u001b[38;5;28;01mNone\u001b[39;00m:\n\u001b[1;32m    115\u001b[0m     \u001b[38;5;28;01mif\u001b[39;00m \u001b[38;5;28mself\u001b[39m\u001b[38;5;241m.\u001b[39m_mode \u001b[38;5;241m==\u001b[39m Mode\u001b[38;5;241m.\u001b[39mREAD_ONLY:\n",
      "File \u001b[0;32m~/opt/anaconda3/envs/mlops/lib/python3.9/site-packages/neptune/common/backends/utils.py:65\u001b[0m, in \u001b[0;36mwith_api_exceptions_handler.<locals>.wrapper\u001b[0;34m(*args, **kwargs)\u001b[0m\n\u001b[1;32m     62\u001b[0m     \u001b[38;5;28;01mbreak\u001b[39;00m\n\u001b[1;32m     64\u001b[0m \u001b[38;5;28;01mtry\u001b[39;00m:\n\u001b[0;32m---> 65\u001b[0m     \u001b[38;5;28;01mreturn\u001b[39;00m \u001b[43mfunc\u001b[49m\u001b[43m(\u001b[49m\u001b[38;5;241;43m*\u001b[39;49m\u001b[43margs\u001b[49m\u001b[43m,\u001b[49m\u001b[43m \u001b[49m\u001b[38;5;241;43m*\u001b[39;49m\u001b[38;5;241;43m*\u001b[39;49m\u001b[43mkwargs\u001b[49m\u001b[43m)\u001b[49m\n\u001b[1;32m     66\u001b[0m \u001b[38;5;28;01mexcept\u001b[39;00m requests\u001b[38;5;241m.\u001b[39mexceptions\u001b[38;5;241m.\u001b[39mInvalidHeader \u001b[38;5;28;01mas\u001b[39;00m e:\n\u001b[1;32m     67\u001b[0m     \u001b[38;5;28;01mif\u001b[39;00m \u001b[38;5;124m\"\u001b[39m\u001b[38;5;124mX-Neptune-Api-Token\u001b[39m\u001b[38;5;124m\"\u001b[39m \u001b[38;5;129;01min\u001b[39;00m e\u001b[38;5;241m.\u001b[39margs[\u001b[38;5;241m0\u001b[39m]:\n",
      "File \u001b[0;32m~/opt/anaconda3/envs/mlops/lib/python3.9/site-packages/neptune/internal/backends/hosted_neptune_backend.py:305\u001b[0m, in \u001b[0;36mHostedNeptuneBackend.get_metadata_container\u001b[0;34m(self, container_id, expected_container_type)\u001b[0m\n\u001b[1;32m    292\u001b[0m     experiment \u001b[38;5;241m=\u001b[39m (\n\u001b[1;32m    293\u001b[0m         \u001b[38;5;28mself\u001b[39m\u001b[38;5;241m.\u001b[39mleaderboard_client\u001b[38;5;241m.\u001b[39mapi\u001b[38;5;241m.\u001b[39mgetExperiment(\n\u001b[1;32m    294\u001b[0m             experimentId\u001b[38;5;241m=\u001b[39mcontainer_id,\n\u001b[0;32m   (...)\u001b[0m\n\u001b[1;32m    298\u001b[0m         \u001b[38;5;241m.\u001b[39mresult\n\u001b[1;32m    299\u001b[0m     )\n\u001b[1;32m    301\u001b[0m     \u001b[38;5;28;01mif\u001b[39;00m (\n\u001b[1;32m    302\u001b[0m         expected_container_type \u001b[38;5;129;01mis\u001b[39;00m \u001b[38;5;129;01mnot\u001b[39;00m \u001b[38;5;28;01mNone\u001b[39;00m\n\u001b[1;32m    303\u001b[0m         \u001b[38;5;129;01mand\u001b[39;00m ContainerType\u001b[38;5;241m.\u001b[39mfrom_api(experiment\u001b[38;5;241m.\u001b[39mtype) \u001b[38;5;241m!=\u001b[39m expected_container_type\n\u001b[1;32m    304\u001b[0m     ):\n\u001b[0;32m--> 305\u001b[0m         \u001b[38;5;28;01mraise\u001b[39;00m MetadataContainerNotFound\u001b[38;5;241m.\u001b[39mof_container_type(\n\u001b[1;32m    306\u001b[0m             container_type\u001b[38;5;241m=\u001b[39mexpected_container_type, container_id\u001b[38;5;241m=\u001b[39mcontainer_id\n\u001b[1;32m    307\u001b[0m         )\n\u001b[1;32m    309\u001b[0m     \u001b[38;5;28;01mreturn\u001b[39;00m ApiExperiment\u001b[38;5;241m.\u001b[39mfrom_experiment(experiment)\n\u001b[1;32m    310\u001b[0m \u001b[38;5;28;01mexcept\u001b[39;00m ObjectNotFound:\n",
      "\u001b[0;31mModelNotFound\u001b[0m: Model pnuthanakalva/DVTest/DVTES-1 not found."
     ]
    }
   ],
   "source": [
    "model = neptune.init_model(with_id=\"DVTES-1\",project='pnuthanakalva/DVTest', api_token=NEPTUNE_KEY)\n",
    "\n",
    "# The path exists in the local representation\n",
    "if model.exists(\"models/model\"):\n",
    "    # However, the tracking call may have not reached Neptune servers yet\n",
    "    model[\"models/model\"].download()  # Error: the field does not exist\n",
    "\n",
    "model.wait()"
   ]
  },
  {
   "cell_type": "code",
   "execution_count": 31,
   "id": "9cbd5cd7-90cc-4cc7-98a8-f9586ddccf28",
   "metadata": {},
   "outputs": [],
   "source": [
    "with open('model.p', 'rb') as f:\n",
    "    reg = pickle.load(f)"
   ]
  },
  {
   "cell_type": "code",
   "execution_count": 33,
   "id": "7d571de9-fa3d-48fe-8eab-e0412b08eaa9",
   "metadata": {},
   "outputs": [
    {
     "name": "stdout",
     "output_type": "stream",
     "text": [
      "Accuracy:  0.9308023349950999\n"
     ]
    }
   ],
   "source": [
    "test = pd.read_csv('split_3.csv')\n",
    "test_input = preprocessor.transform(test.drop(columns=['step', 'nameOrig', 'nameDest', 'isFlaggedFraud']))\n",
    "test_target = test['isFraud']\n",
    "test_predict = reg.predict(test_input)\n",
    "print('Accuracy: ', accuracy_score(test_target, test_predict))"
   ]
  }
 ],
 "metadata": {
  "kernelspec": {
   "display_name": "Python 3",
   "language": "python",
   "name": "python3"
  },
  "language_info": {
   "codemirror_mode": {
    "name": "ipython",
    "version": 3
   },
   "file_extension": ".py",
   "mimetype": "text/x-python",
   "name": "python",
   "nbconvert_exporter": "python",
   "pygments_lexer": "ipython3",
   "version": "3.9.16"
  }
 },
 "nbformat": 4,
 "nbformat_minor": 5
}
